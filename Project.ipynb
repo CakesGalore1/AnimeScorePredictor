{
 "cells": [
  {
   "cell_type": "markdown",
   "id": "a4e7fe4a-4a1b-4acd-88a1-d4d245c74836",
   "metadata": {},
   "source": [
    "References:\n",
    "\n",
    "https://mal-api.readthedocs.io/en/latest/index.html\n",
    "\n",
    "https://myanimelist.net\n",
    "\n",
    "https://www.pythontutorial.net/python-basics/python-write-csv-file/\n"
   ]
  },
  {
   "cell_type": "code",
   "execution_count": 3,
   "id": "15342cce-64ec-41f7-a4d7-16e7da51394a",
   "metadata": {},
   "outputs": [
    {
     "name": "stdout",
     "output_type": "stream",
     "text": [
      "Requirement already satisfied: pip in d:\\anaconda\\lib\\site-packages (22.3.1)\n",
      "Requirement already satisfied: setuptools in d:\\anaconda\\lib\\site-packages (65.5.1)\n",
      "Requirement already satisfied: wheel in d:\\anaconda\\lib\\site-packages (0.38.2)\n",
      "Requirement already satisfied: mal-api in d:\\anaconda\\lib\\site-packages (0.5.2)\n",
      "Requirement already satisfied: requests in d:\\anaconda\\lib\\site-packages (from mal-api) (2.27.1)\n",
      "Requirement already satisfied: beautifulsoup4 in d:\\anaconda\\lib\\site-packages (from mal-api) (4.11.1)\n",
      "Requirement already satisfied: soupsieve>1.2 in d:\\anaconda\\lib\\site-packages (from beautifulsoup4->mal-api) (2.3.1)\n",
      "Requirement already satisfied: certifi>=2017.4.17 in d:\\anaconda\\lib\\site-packages (from requests->mal-api) (2021.10.8)\n",
      "Requirement already satisfied: idna<4,>=2.5 in d:\\anaconda\\lib\\site-packages (from requests->mal-api) (3.3)\n",
      "Requirement already satisfied: charset-normalizer~=2.0.0 in d:\\anaconda\\lib\\site-packages (from requests->mal-api) (2.0.4)\n",
      "Requirement already satisfied: urllib3<1.27,>=1.21.1 in d:\\anaconda\\lib\\site-packages (from requests->mal-api) (1.26.9)\n"
     ]
    }
   ],
   "source": [
    "import sys\n",
    "!{sys.executable} -m pip install --upgrade pip setuptools wheel\n",
    "!pip install -U mal-api\n",
    "from mal import *"
   ]
  },
  {
   "cell_type": "code",
   "execution_count": 28,
   "id": "9b9575e1-a336-49ad-89ba-acb7d6500af9",
   "metadata": {},
   "outputs": [],
   "source": [
    "\"\"\"\n",
    "Args: \n",
    "    int(Id): the MyAnimeList ID of the anime\n",
    "Return:\n",
    "    Anime: the Anime object corrisponding to the id number\n",
    "\"\"\"\n",
    "def get_anime(idValue):\n",
    "    try:\n",
    "        anime=Anime(idValue)\n",
    "    except:\n",
    "        #ValueError: \"Anime Id {0} does not exist\".format(id)\n",
    "        return False\n",
    "    else:\n",
    "        return anime\n",
    "def anime_to_data(idValue):\n",
    "    anime = get_anime(idValue)\n",
    "    if anime == False:\n",
    "        return False\n",
    "    data = [\n",
    "anime.title,\n",
    "anime.title_english,\n",
    "anime.title_japanese,\n",
    "anime.title_synonyms,\n",
    "anime.url,\n",
    "anime.image_url,\n",
    "anime.type,\n",
    "anime.status,\n",
    "anime.genres,\n",
    "anime.themes,\n",
    "anime.score,\n",
    "anime.scored_by,\n",
    "anime.rank,\n",
    "anime.popularity,\n",
    "anime.members,\n",
    "anime.favorites,\n",
    "anime.episodes,\n",
    "anime.aired,\n",
    "anime.premiered,\n",
    "anime.broadcast,\n",
    "anime.producers,\n",
    "anime.licensors,\n",
    "anime.studios,\n",
    "anime.source,\n",
    "anime.duration,\n",
    "anime.rating,\n",
    "anime.related_anime,\n",
    "anime.opening_themes,\n",
    "anime.ending_themes,\n",
    "anime.characters,\n",
    "anime.staff,\n",
    "anime.synopsis,\n",
    "anime.background,\n",
    "idValue]\n",
    "    return data\n",
    "def get_anime_dataset(min = 1, max = 54000, progress_updates = True, progress_increment = .5):\n",
    "    dataset =  []\n",
    "    progress = 0\n",
    "    for i in range(min, max):\n",
    "        current_data = anime_to_data(i)\n",
    "        if current_data != False:\n",
    "            dataset += [current_data]\n",
    "            if progress_updates:\n",
    "                if (i-min)/(max-min+1) > progress:\n",
    "                    print(progress)\n",
    "                    progress += progress_increment\n",
    "    return dataset\n"
   ]
  },
  {
   "cell_type": "code",
   "execution_count": null,
   "id": "87f6ef11-f2f0-46bb-bb8a-23c408b700e6",
   "metadata": {},
   "outputs": [],
   "source": []
  },
  {
   "cell_type": "code",
   "execution_count": null,
   "id": "7c43b5f9-ab55-430b-bade-4c92f250e6c5",
   "metadata": {},
   "outputs": [
    {
     "name": "stdout",
     "output_type": "stream",
     "text": [
      "start: 1\n",
      "end: 700\n",
      "0\n",
      "0.33\n",
      "0.66\n",
      "0.99\n",
      "start: 700\n",
      "end: 1400\n",
      "0\n",
      "0.33\n",
      "0.66\n",
      "0.99\n",
      "start: 1400\n",
      "end: 2100\n",
      "0\n",
      "0.33\n",
      "0.66\n",
      "0.99\n",
      "start: 2100\n",
      "end: 2800\n",
      "0\n",
      "0.33\n",
      "0.66\n",
      "0.99\n",
      "start: 2800\n",
      "end: 3500\n",
      "0\n",
      "0.33\n",
      "0.66\n",
      "0.99\n",
      "start: 3500\n",
      "end: 4200\n",
      "0\n",
      "0.33\n",
      "0.66\n",
      "0.99\n",
      "start: 4200\n",
      "end: 4900\n",
      "0\n",
      "0.33\n",
      "0.66\n"
     ]
    }
   ],
   "source": [
    "import csv\n",
    "# open the file in the write mode\n",
    "def print_to_csv(min, max, updates, progress_updates = True, progress_increment = .5):\n",
    "    start = min\n",
    "    end = int(max/updates)\n",
    "    for i in range(1, updates+1):\n",
    "        print(\"start:\",start)\n",
    "        print(\"end:\", end)\n",
    "        writer.writerows(get_anime_dataset(start, end, progress_updates, progress_increment))\n",
    "        start = end\n",
    "        end = int((i+1)*max/updates)\n",
    "        \n",
    "with open('AnimeLists.csv', 'w', encoding='UTF8', newline='') as f:\n",
    "    writer = csv.writer(f)\n",
    "    header = \"title\",\"title_english\",\"title_japanese\",\"title_synonyms\",\"url\",\"image_url\",\"type\",\"status\",\"genres\",\"themes\",\"score\",\"scored_by\",\"rank\",\"popularity\",\"members\",\"favorites\",\"episodes\",\"aired\",\"premiered\",\"broadcast\",\"producers\",\"licensors\",\"studios\",\"source\",\"duration\",\"rating\",\"related_anime\",\"opening_themes\",\"ending_themes\",\"characters\",\"staff\",\"synopsis\",\"background\", \"ID\"\n",
    "    writer.writerow(header)\n",
    "    print_to_csv(1, 14000, 20, True, 0.33)\n",
    "    print(\"finished\")\n"
   ]
  },
  {
   "cell_type": "code",
   "execution_count": null,
   "id": "fcfc8b09-84cc-454c-9bd4-9ffb51914679",
   "metadata": {
    "tags": []
   },
   "outputs": [],
   "source": []
  },
  {
   "cell_type": "code",
   "execution_count": null,
   "id": "57fa4e13-80d8-41d5-aab0-6d067963b77d",
   "metadata": {},
   "outputs": [],
   "source": []
  }
 ],
 "metadata": {
  "kernelspec": {
   "display_name": "Python 3 (ipykernel)",
   "language": "python",
   "name": "python3"
  },
  "language_info": {
   "codemirror_mode": {
    "name": "ipython",
    "version": 3
   },
   "file_extension": ".py",
   "mimetype": "text/x-python",
   "name": "python",
   "nbconvert_exporter": "python",
   "pygments_lexer": "ipython3",
   "version": "3.9.12"
  }
 },
 "nbformat": 4,
 "nbformat_minor": 5
}
