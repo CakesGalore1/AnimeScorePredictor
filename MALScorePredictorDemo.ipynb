{
 "cells": [
  {
   "cell_type": "markdown",
   "id": "d55bf0d6-d6f7-4454-884a-178e04490d2e",
   "metadata": {},
   "source": [
    "# Anime Rating Predictor\n",
    "#### By Shaun Katanosaka, Nina Nguyen, Hin Yat Tsang\n",
    "\n",
    "Ever look at the list of upcoming seasonal animes and have no idea if it's going to be good or not? This project aims to solve that problem! Here, we will use machine learning to predict how good an upcoming anime is."
   ]
  },
  {
   "cell_type": "markdown",
   "id": "dcbef2f8-e2f4-483e-acf3-949270498140",
   "metadata": {},
   "source": [
    "## Getting our Dataset\n",
    "We will make a dataset which includes looking at every anime on myanimelist.net and gathering information about each one, including categories such as title, score, popularity, the season it initially aired, etc. \n",
    "This program might take a very long time to run, due to the rate limitations of accessing the myanimelist API.\n",
    "The file AnimeList.csv file has every anime up to Nov 8, 2022.\n",
    "\n",
    "Note: due to MyAnimeList's ddos protection, it is possible that on rare occasion, this process may not work due to the site thinking that our program is a ddos attempt. In this case, you can typically open up myanimelist.net and if they prompt you to make sure you aren't a bot, then do so and run this program again. If not, then you are probably fine to try again."
   ]
  },
  {
   "cell_type": "code",
   "execution_count": 1,
   "id": "3cda0924-83d2-4f26-beff-fe117cb1fa54",
   "metadata": {},
   "outputs": [
    {
     "name": "stdout",
     "output_type": "stream",
     "text": [
      "Requirement already satisfied: pip in d:\\anaconda\\lib\\site-packages (22.3.1)\n",
      "Requirement already satisfied: setuptools in d:\\anaconda\\lib\\site-packages (65.6.3)\n",
      "Requirement already satisfied: wheel in d:\\anaconda\\lib\\site-packages (0.38.4)\n",
      "Requirement already satisfied: mal-api in d:\\anaconda\\lib\\site-packages (0.5.2)\n",
      "Requirement already satisfied: requests in d:\\anaconda\\lib\\site-packages (from mal-api) (2.27.1)\n",
      "Requirement already satisfied: beautifulsoup4 in d:\\anaconda\\lib\\site-packages (from mal-api) (4.11.1)\n",
      "Requirement already satisfied: soupsieve>1.2 in d:\\anaconda\\lib\\site-packages (from beautifulsoup4->mal-api) (2.3.1)\n",
      "Requirement already satisfied: charset-normalizer~=2.0.0 in d:\\anaconda\\lib\\site-packages (from requests->mal-api) (2.0.4)\n",
      "Requirement already satisfied: certifi>=2017.4.17 in d:\\anaconda\\lib\\site-packages (from requests->mal-api) (2021.10.8)\n",
      "Requirement already satisfied: urllib3<1.27,>=1.21.1 in d:\\anaconda\\lib\\site-packages (from requests->mal-api) (1.26.9)\n",
      "Requirement already satisfied: idna<4,>=2.5 in d:\\anaconda\\lib\\site-packages (from requests->mal-api) (3.3)\n"
     ]
    }
   ],
   "source": [
    "#we import a package which will be used to access the myanimelist.net's API and gather data\n",
    "import sys\n",
    "!{sys.executable} -m pip install --upgrade pip setuptools wheel\n",
    "!pip install -U mal-api\n",
    "import csv\n",
    "\n",
    "from getMalDataset import make_csv\n",
    "filename = \"AnimeList.csv\"\n",
    "#IMPORTANT: this line will take many many hours to complete.\n",
    "#I suggest commenting it out and instead using the provided AnimeList.csv file provided in AnimeList.zip\n",
    "minValue = 1\n",
    "maxValue = 53509\n",
    "#make_csv(filename, minValue, maxValue, 1, False)"
   ]
  },
  {
   "cell_type": "markdown",
   "id": "f65bad32-3617-4830-859d-794828fec240",
   "metadata": {
    "tags": []
   },
   "source": [
    "## Exception handling in getMalDataset\n",
    "#### Example #1\n",
    "Every anime on MyAnimeList has an ID number associated with it, and the ID number increases by 1 for every added entry into their site. This makes it possible to get every anime on their website by simply iterating through every number. However, due to some enteries not being approved or some being deleted, not all numbers(even small ones) are an ID of an anime. Therefore, we must not attempt to gather data for an anime which does not exist.\n",
    "```python\n",
    "def get_anime(idValue):\n",
    "    try:\n",
    "        anime=Anime(idValue)\n",
    "    except:\n",
    "        ValueError: \"idValue is not associated with an anime\"\n",
    "        return False\n",
    "    else:\n",
    "        return anime\n",
    "```\n",
    "    \n",
    "\n",
    "#### Example #2\n",
    "When calling the make_csv function, the user can choose the bounds for the ID values to print to a csv file, how many times to write to the csv file, and how often to give a progress update per update. We give exceptions if these imputed values are not valid.\n",
    "```python\n",
    "def make_csv(filename, minIndex, maxIndex, updates, progress_updates = True, progress_increment = .5):\n",
    "    if maxIndex < minIndex:\n",
    "        raise ValueError(\"maxIndex cannot be smaller than minIndex\")\n",
    "    if type(updates) != int:\n",
    "        raise TypeError(\"updates must be an int\")\n",
    "    if updates <= 0:\n",
    "        raise ValueError(\"updates must be greater or equal to 1\")\n",
    "    if (progress_increment < 0) or (progress_increment > 1):\n",
    "        raise ValueError(\"progress_updates must be between 0 and 1\")\n",
    "```"
   ]
  },
  {
   "cell_type": "markdown",
   "id": "1e1696fa-5fee-4839-96a0-465da8520d0b",
   "metadata": {},
   "source": [
    "## Our Dataset"
   ]
  },
  {
   "cell_type": "code",
   "execution_count": 2,
   "id": "64ed367a-f988-480c-9d06-a8bd978594be",
   "metadata": {},
   "outputs": [
    {
     "data": {
      "text/html": [
       "<div>\n",
       "<style scoped>\n",
       "    .dataframe tbody tr th:only-of-type {\n",
       "        vertical-align: middle;\n",
       "    }\n",
       "\n",
       "    .dataframe tbody tr th {\n",
       "        vertical-align: top;\n",
       "    }\n",
       "\n",
       "    .dataframe thead th {\n",
       "        text-align: right;\n",
       "    }\n",
       "</style>\n",
       "<table border=\"1\" class=\"dataframe\">\n",
       "  <thead>\n",
       "    <tr style=\"text-align: right;\">\n",
       "      <th></th>\n",
       "      <th>title</th>\n",
       "      <th>title_english</th>\n",
       "      <th>title_japanese</th>\n",
       "      <th>title_synonyms</th>\n",
       "      <th>url</th>\n",
       "      <th>image_url</th>\n",
       "      <th>type</th>\n",
       "      <th>status</th>\n",
       "      <th>genres</th>\n",
       "      <th>themes</th>\n",
       "      <th>...</th>\n",
       "      <th>duration</th>\n",
       "      <th>rating</th>\n",
       "      <th>related_anime</th>\n",
       "      <th>opening_themes</th>\n",
       "      <th>ending_themes</th>\n",
       "      <th>characters</th>\n",
       "      <th>staff</th>\n",
       "      <th>synopsis</th>\n",
       "      <th>background</th>\n",
       "      <th>ID</th>\n",
       "    </tr>\n",
       "  </thead>\n",
       "  <tbody>\n",
       "    <tr>\n",
       "      <th>0</th>\n",
       "      <td>Cowboy Bebop</td>\n",
       "      <td>Cowboy Bebop</td>\n",
       "      <td>カウボーイビバップ</td>\n",
       "      <td>[]</td>\n",
       "      <td>https://myanimelist.net/anime/1/Cowboy_Bebop</td>\n",
       "      <td>https://cdn.myanimelist.net/images/anime/4/196...</td>\n",
       "      <td>TV</td>\n",
       "      <td>Finished Airing</td>\n",
       "      <td>['Action', 'Sci-Fi']</td>\n",
       "      <td>['Adult Cast', 'Space']</td>\n",
       "      <td>...</td>\n",
       "      <td>24 min. per ep.</td>\n",
       "      <td>R - 17+ (violence &amp; profanity)</td>\n",
       "      <td>{'Adaptation': ['Cowboy Bebop', 'Shooting Star...</td>\n",
       "      <td>['\"Tank!\" by The Seatbelts (eps 1-25)']</td>\n",
       "      <td>['\"The Real Folk Blues\" by The Seatbelts feat....</td>\n",
       "      <td>[&lt;mal._anime.AnimeCharacterResult object at 0x...</td>\n",
       "      <td>[&lt;mal._anime.AnimeStaffResult object at 0x0000...</td>\n",
       "      <td>Crime is timeless. By the year 2071, humanity ...</td>\n",
       "      <td>When Cowboy Bebop first aired in spring of 199...</td>\n",
       "      <td>1</td>\n",
       "    </tr>\n",
       "    <tr>\n",
       "      <th>1</th>\n",
       "      <td>Cowboy Bebop: Tengoku no Tobira</td>\n",
       "      <td>Cowboy Bebop: The Movie</td>\n",
       "      <td>カウボーイビバップ 天国の扉</td>\n",
       "      <td>[\"Cowboy Bebop: Knockin' on Heaven's Door\"]</td>\n",
       "      <td>https://myanimelist.net/anime/5/Cowboy_Bebop__...</td>\n",
       "      <td>https://cdn.myanimelist.net/images/anime/1439/...</td>\n",
       "      <td>Movie</td>\n",
       "      <td>Finished Airing</td>\n",
       "      <td>['Action', 'Sci-Fi']</td>\n",
       "      <td>['Adult Cast', 'Space']</td>\n",
       "      <td>...</td>\n",
       "      <td>1 hr. 55 min.</td>\n",
       "      <td>R - 17+ (violence &amp; profanity)</td>\n",
       "      <td>{'Parent story': ['Cowboy Bebop']}</td>\n",
       "      <td>['\"Ask DNA\" by The Seatbelts featuring Raju Ra...</td>\n",
       "      <td>['\"Gotta Knock a Little Harder\" by The Seatbel...</td>\n",
       "      <td>[&lt;mal._anime.AnimeCharacterResult object at 0x...</td>\n",
       "      <td>[&lt;mal._anime.AnimeStaffResult object at 0x0000...</td>\n",
       "      <td>Another day, another bounty—such is the life o...</td>\n",
       "      <td>NaN</td>\n",
       "      <td>5</td>\n",
       "    </tr>\n",
       "    <tr>\n",
       "      <th>2</th>\n",
       "      <td>Trigun</td>\n",
       "      <td>Trigun</td>\n",
       "      <td>トライガン</td>\n",
       "      <td>[]</td>\n",
       "      <td>https://myanimelist.net/anime/6/Trigun</td>\n",
       "      <td>https://cdn.myanimelist.net/images/anime/7/203...</td>\n",
       "      <td>TV</td>\n",
       "      <td>Finished Airing</td>\n",
       "      <td>['Action', 'Adventure', 'Comedy', 'Drama', 'Sc...</td>\n",
       "      <td>['Adult Cast']</td>\n",
       "      <td>...</td>\n",
       "      <td>24 min. per ep.</td>\n",
       "      <td>PG-13 - Teens 13 or older</td>\n",
       "      <td>{'Adaptation': ['Trigun'], 'Side story': ['Tri...</td>\n",
       "      <td>['\"H.T.\" by Tsuneo Imahori']</td>\n",
       "      <td>['\"Kaze wa Mirai ni Fuku (The Wind Blows to th...</td>\n",
       "      <td>[&lt;mal._anime.AnimeCharacterResult object at 0x...</td>\n",
       "      <td>[&lt;mal._anime.AnimeStaffResult object at 0x0000...</td>\n",
       "      <td>Vash the Stampede is the man with a $$60,000,0...</td>\n",
       "      <td>The Japanese release by Victor Entertainment h...</td>\n",
       "      <td>6</td>\n",
       "    </tr>\n",
       "    <tr>\n",
       "      <th>3</th>\n",
       "      <td>Witch Hunter Robin</td>\n",
       "      <td>Witch Hunter Robin</td>\n",
       "      <td>Witch Hunter ROBIN (ウイッチハンターロビン)</td>\n",
       "      <td>['WHR']</td>\n",
       "      <td>https://myanimelist.net/anime/7/Witch_Hunter_R...</td>\n",
       "      <td>https://cdn.myanimelist.net/images/anime/10/19...</td>\n",
       "      <td>TV</td>\n",
       "      <td>Finished Airing</td>\n",
       "      <td>['Action', 'Drama', 'Mystery', 'Supernatural']</td>\n",
       "      <td>['Detective']</td>\n",
       "      <td>...</td>\n",
       "      <td>25 min. per ep.</td>\n",
       "      <td>PG-13 - Teens 13 or older</td>\n",
       "      <td>{}</td>\n",
       "      <td>['\"Shell\" by Bana']</td>\n",
       "      <td>['\"Half Pain\" by Bana (eps 01-14,16-25)', '\"Sh...</td>\n",
       "      <td>[&lt;mal._anime.AnimeCharacterResult object at 0x...</td>\n",
       "      <td>[&lt;mal._anime.AnimeStaffResult object at 0x0000...</td>\n",
       "      <td>Witches are individuals with special powers li...</td>\n",
       "      <td>NaN</td>\n",
       "      <td>7</td>\n",
       "    </tr>\n",
       "    <tr>\n",
       "      <th>4</th>\n",
       "      <td>Bouken Ou Beet</td>\n",
       "      <td>Beet the Vandel Buster</td>\n",
       "      <td>冒険王ビィト</td>\n",
       "      <td>['Adventure King Beet']</td>\n",
       "      <td>https://myanimelist.net/anime/8/Bouken_Ou_Beet</td>\n",
       "      <td>https://cdn.myanimelist.net/images/anime/7/215...</td>\n",
       "      <td>TV</td>\n",
       "      <td>Finished Airing</td>\n",
       "      <td>['Adventure', 'Fantasy', 'Supernatural']</td>\n",
       "      <td>[]</td>\n",
       "      <td>...</td>\n",
       "      <td>23 min. per ep.</td>\n",
       "      <td>PG - Children</td>\n",
       "      <td>{'Adaptation': ['Boukenou Beet'], 'Sequel': ['...</td>\n",
       "      <td>['\"Emotion\" by Sunbrain', '\"Wish Men\" by Sunbr...</td>\n",
       "      <td>['\"pureness\" by Nana Kitade (eps 1-13)', '\"Dre...</td>\n",
       "      <td>[&lt;mal._anime.AnimeCharacterResult object at 0x...</td>\n",
       "      <td>[&lt;mal._anime.AnimeStaffResult object at 0x0000...</td>\n",
       "      <td>It is the dark century and the people are suff...</td>\n",
       "      <td>NaN</td>\n",
       "      <td>8</td>\n",
       "    </tr>\n",
       "    <tr>\n",
       "      <th>...</th>\n",
       "      <td>...</td>\n",
       "      <td>...</td>\n",
       "      <td>...</td>\n",
       "      <td>...</td>\n",
       "      <td>...</td>\n",
       "      <td>...</td>\n",
       "      <td>...</td>\n",
       "      <td>...</td>\n",
       "      <td>...</td>\n",
       "      <td>...</td>\n",
       "      <td>...</td>\n",
       "      <td>...</td>\n",
       "      <td>...</td>\n",
       "      <td>...</td>\n",
       "      <td>...</td>\n",
       "      <td>...</td>\n",
       "      <td>...</td>\n",
       "      <td>...</td>\n",
       "      <td>...</td>\n",
       "      <td>...</td>\n",
       "      <td>...</td>\n",
       "    </tr>\n",
       "    <tr>\n",
       "      <th>24024</th>\n",
       "      <td>Aikatsu! Photo on Stage!!</td>\n",
       "      <td>NaN</td>\n",
       "      <td>アイカツ!フォトonステージ!!</td>\n",
       "      <td>[]</td>\n",
       "      <td>https://myanimelist.net/anime/53505/Aikatsu_Ph...</td>\n",
       "      <td>https://cdn.myanimelist.net/images/anime/1314/...</td>\n",
       "      <td>Music</td>\n",
       "      <td>Finished Airing</td>\n",
       "      <td>[]</td>\n",
       "      <td>['Idols (Female)', 'Music']</td>\n",
       "      <td>...</td>\n",
       "      <td>2 min. per ep.</td>\n",
       "      <td>PG - Children</td>\n",
       "      <td>{'Other': ['Aikatsu!']}</td>\n",
       "      <td>[]</td>\n",
       "      <td>[]</td>\n",
       "      <td>[]</td>\n",
       "      <td>[]</td>\n",
       "      <td>Animated music videos promoting the \"Aikatsu! ...</td>\n",
       "      <td>NaN</td>\n",
       "      <td>53505</td>\n",
       "    </tr>\n",
       "    <tr>\n",
       "      <th>24025</th>\n",
       "      <td>Yari Agari</td>\n",
       "      <td>NaN</td>\n",
       "      <td>ヤリ上がり</td>\n",
       "      <td>[]</td>\n",
       "      <td>https://myanimelist.net/anime/53506/Yari_Agari</td>\n",
       "      <td>https://cdn.myanimelist.net/images/anime/1340/...</td>\n",
       "      <td>OVA</td>\n",
       "      <td>Not yet aired</td>\n",
       "      <td>['Hentai']</td>\n",
       "      <td>[]</td>\n",
       "      <td>...</td>\n",
       "      <td>NaN</td>\n",
       "      <td>Rx - Hentai</td>\n",
       "      <td>{}</td>\n",
       "      <td>[]</td>\n",
       "      <td>[]</td>\n",
       "      <td>[]</td>\n",
       "      <td>[&lt;mal._anime.AnimeStaffResult object at 0x0000...</td>\n",
       "      <td>No synopsis information has been added to this...</td>\n",
       "      <td>NaN</td>\n",
       "      <td>53506</td>\n",
       "    </tr>\n",
       "    <tr>\n",
       "      <th>24026</th>\n",
       "      <td>Tōkyō shandi randevu</td>\n",
       "      <td>Tokyo Shandy Rendez-vous</td>\n",
       "      <td>トウキョウ・シャンディ・ランデヴ</td>\n",
       "      <td>[]</td>\n",
       "      <td>https://myanimelist.net/anime/53507/Tōkyō_shan...</td>\n",
       "      <td>https://cdn.myanimelist.net/images/anime/1825/...</td>\n",
       "      <td>Music</td>\n",
       "      <td>Finished Airing</td>\n",
       "      <td>['Comedy', 'Romance', 'Sci-Fi', 'Supernatural']</td>\n",
       "      <td>[]</td>\n",
       "      <td>...</td>\n",
       "      <td>3 min.</td>\n",
       "      <td>None</td>\n",
       "      <td>{'Other': ['Urusei Yatsura (2022)']}</td>\n",
       "      <td>[]</td>\n",
       "      <td>[]</td>\n",
       "      <td>[]</td>\n",
       "      <td>[]</td>\n",
       "      <td>Music video for the Urusei Yatsura ED theme.</td>\n",
       "      <td>NaN</td>\n",
       "      <td>53507</td>\n",
       "    </tr>\n",
       "    <tr>\n",
       "      <th>24027</th>\n",
       "      <td>Yuki Terai in Virtual Hawaii</td>\n",
       "      <td>NaN</td>\n",
       "      <td>テライユキinバーチャルハワイ</td>\n",
       "      <td>[]</td>\n",
       "      <td>https://myanimelist.net/anime/53508/Yuki_Terai...</td>\n",
       "      <td>https://cdn.myanimelist.net/images/anime/1532/...</td>\n",
       "      <td>OVA</td>\n",
       "      <td>Finished Airing</td>\n",
       "      <td>['Slice of Life']</td>\n",
       "      <td>['Idols (Female)']</td>\n",
       "      <td>...</td>\n",
       "      <td>16 min. per ep.</td>\n",
       "      <td>None</td>\n",
       "      <td>{'Parent story': ['Yuki Terai']}</td>\n",
       "      <td>[]</td>\n",
       "      <td>[]</td>\n",
       "      <td>[]</td>\n",
       "      <td>[]</td>\n",
       "      <td>Yuki visits Hawaii.</td>\n",
       "      <td>NaN</td>\n",
       "      <td>53508</td>\n",
       "    </tr>\n",
       "    <tr>\n",
       "      <th>24028</th>\n",
       "      <td>Yuki Terai in Virtual Hawaii Specials</td>\n",
       "      <td>NaN</td>\n",
       "      <td>テライユキinバーチャルハワイ</td>\n",
       "      <td>[]</td>\n",
       "      <td>https://myanimelist.net/anime/53509/Yuki_Terai...</td>\n",
       "      <td>https://cdn.myanimelist.net/images/anime/1866/...</td>\n",
       "      <td>Special</td>\n",
       "      <td>Finished Airing</td>\n",
       "      <td>['Drama', 'Sci-Fi', 'Slice of Life']</td>\n",
       "      <td>['Historical', 'Idols (Female)']</td>\n",
       "      <td>...</td>\n",
       "      <td>3 min. per ep.</td>\n",
       "      <td>None</td>\n",
       "      <td>{'Other': ['Yuki Terai in Virtual Hawaii']}</td>\n",
       "      <td>[]</td>\n",
       "      <td>[]</td>\n",
       "      <td>[]</td>\n",
       "      <td>[]</td>\n",
       "      <td>1. Paradise Ocean: A day on the beach 2. Proje...</td>\n",
       "      <td>NaN</td>\n",
       "      <td>53509</td>\n",
       "    </tr>\n",
       "  </tbody>\n",
       "</table>\n",
       "<p>24029 rows × 34 columns</p>\n",
       "</div>"
      ],
      "text/plain": [
       "                                       title             title_english  \\\n",
       "0                               Cowboy Bebop              Cowboy Bebop   \n",
       "1            Cowboy Bebop: Tengoku no Tobira   Cowboy Bebop: The Movie   \n",
       "2                                     Trigun                    Trigun   \n",
       "3                         Witch Hunter Robin        Witch Hunter Robin   \n",
       "4                             Bouken Ou Beet    Beet the Vandel Buster   \n",
       "...                                      ...                       ...   \n",
       "24024              Aikatsu! Photo on Stage!!                       NaN   \n",
       "24025                             Yari Agari                       NaN   \n",
       "24026                   Tōkyō shandi randevu  Tokyo Shandy Rendez-vous   \n",
       "24027           Yuki Terai in Virtual Hawaii                       NaN   \n",
       "24028  Yuki Terai in Virtual Hawaii Specials                       NaN   \n",
       "\n",
       "                         title_japanese  \\\n",
       "0                             カウボーイビバップ   \n",
       "1                        カウボーイビバップ 天国の扉   \n",
       "2                                 トライガン   \n",
       "3      Witch Hunter ROBIN (ウイッチハンターロビン)   \n",
       "4                                冒険王ビィト   \n",
       "...                                 ...   \n",
       "24024                  アイカツ!フォトonステージ!!   \n",
       "24025                             ヤリ上がり   \n",
       "24026                  トウキョウ・シャンディ・ランデヴ   \n",
       "24027                   テライユキinバーチャルハワイ   \n",
       "24028                   テライユキinバーチャルハワイ   \n",
       "\n",
       "                                    title_synonyms  \\\n",
       "0                                               []   \n",
       "1      [\"Cowboy Bebop: Knockin' on Heaven's Door\"]   \n",
       "2                                               []   \n",
       "3                                          ['WHR']   \n",
       "4                          ['Adventure King Beet']   \n",
       "...                                            ...   \n",
       "24024                                           []   \n",
       "24025                                           []   \n",
       "24026                                           []   \n",
       "24027                                           []   \n",
       "24028                                           []   \n",
       "\n",
       "                                                     url  \\\n",
       "0           https://myanimelist.net/anime/1/Cowboy_Bebop   \n",
       "1      https://myanimelist.net/anime/5/Cowboy_Bebop__...   \n",
       "2                 https://myanimelist.net/anime/6/Trigun   \n",
       "3      https://myanimelist.net/anime/7/Witch_Hunter_R...   \n",
       "4         https://myanimelist.net/anime/8/Bouken_Ou_Beet   \n",
       "...                                                  ...   \n",
       "24024  https://myanimelist.net/anime/53505/Aikatsu_Ph...   \n",
       "24025     https://myanimelist.net/anime/53506/Yari_Agari   \n",
       "24026  https://myanimelist.net/anime/53507/Tōkyō_shan...   \n",
       "24027  https://myanimelist.net/anime/53508/Yuki_Terai...   \n",
       "24028  https://myanimelist.net/anime/53509/Yuki_Terai...   \n",
       "\n",
       "                                               image_url     type  \\\n",
       "0      https://cdn.myanimelist.net/images/anime/4/196...       TV   \n",
       "1      https://cdn.myanimelist.net/images/anime/1439/...    Movie   \n",
       "2      https://cdn.myanimelist.net/images/anime/7/203...       TV   \n",
       "3      https://cdn.myanimelist.net/images/anime/10/19...       TV   \n",
       "4      https://cdn.myanimelist.net/images/anime/7/215...       TV   \n",
       "...                                                  ...      ...   \n",
       "24024  https://cdn.myanimelist.net/images/anime/1314/...    Music   \n",
       "24025  https://cdn.myanimelist.net/images/anime/1340/...      OVA   \n",
       "24026  https://cdn.myanimelist.net/images/anime/1825/...    Music   \n",
       "24027  https://cdn.myanimelist.net/images/anime/1532/...      OVA   \n",
       "24028  https://cdn.myanimelist.net/images/anime/1866/...  Special   \n",
       "\n",
       "                status                                             genres  \\\n",
       "0      Finished Airing                               ['Action', 'Sci-Fi']   \n",
       "1      Finished Airing                               ['Action', 'Sci-Fi']   \n",
       "2      Finished Airing  ['Action', 'Adventure', 'Comedy', 'Drama', 'Sc...   \n",
       "3      Finished Airing     ['Action', 'Drama', 'Mystery', 'Supernatural']   \n",
       "4      Finished Airing           ['Adventure', 'Fantasy', 'Supernatural']   \n",
       "...                ...                                                ...   \n",
       "24024  Finished Airing                                                 []   \n",
       "24025    Not yet aired                                         ['Hentai']   \n",
       "24026  Finished Airing    ['Comedy', 'Romance', 'Sci-Fi', 'Supernatural']   \n",
       "24027  Finished Airing                                  ['Slice of Life']   \n",
       "24028  Finished Airing               ['Drama', 'Sci-Fi', 'Slice of Life']   \n",
       "\n",
       "                                 themes  ...         duration  \\\n",
       "0               ['Adult Cast', 'Space']  ...  24 min. per ep.   \n",
       "1               ['Adult Cast', 'Space']  ...    1 hr. 55 min.   \n",
       "2                        ['Adult Cast']  ...  24 min. per ep.   \n",
       "3                         ['Detective']  ...  25 min. per ep.   \n",
       "4                                    []  ...  23 min. per ep.   \n",
       "...                                 ...  ...              ...   \n",
       "24024       ['Idols (Female)', 'Music']  ...   2 min. per ep.   \n",
       "24025                                []  ...              NaN   \n",
       "24026                                []  ...           3 min.   \n",
       "24027                ['Idols (Female)']  ...  16 min. per ep.   \n",
       "24028  ['Historical', 'Idols (Female)']  ...   3 min. per ep.   \n",
       "\n",
       "                               rating  \\\n",
       "0      R - 17+ (violence & profanity)   \n",
       "1      R - 17+ (violence & profanity)   \n",
       "2           PG-13 - Teens 13 or older   \n",
       "3           PG-13 - Teens 13 or older   \n",
       "4                       PG - Children   \n",
       "...                               ...   \n",
       "24024                   PG - Children   \n",
       "24025                     Rx - Hentai   \n",
       "24026                            None   \n",
       "24027                            None   \n",
       "24028                            None   \n",
       "\n",
       "                                           related_anime  \\\n",
       "0      {'Adaptation': ['Cowboy Bebop', 'Shooting Star...   \n",
       "1                     {'Parent story': ['Cowboy Bebop']}   \n",
       "2      {'Adaptation': ['Trigun'], 'Side story': ['Tri...   \n",
       "3                                                     {}   \n",
       "4      {'Adaptation': ['Boukenou Beet'], 'Sequel': ['...   \n",
       "...                                                  ...   \n",
       "24024                            {'Other': ['Aikatsu!']}   \n",
       "24025                                                 {}   \n",
       "24026               {'Other': ['Urusei Yatsura (2022)']}   \n",
       "24027                   {'Parent story': ['Yuki Terai']}   \n",
       "24028        {'Other': ['Yuki Terai in Virtual Hawaii']}   \n",
       "\n",
       "                                          opening_themes  \\\n",
       "0                ['\"Tank!\" by The Seatbelts (eps 1-25)']   \n",
       "1      ['\"Ask DNA\" by The Seatbelts featuring Raju Ra...   \n",
       "2                           ['\"H.T.\" by Tsuneo Imahori']   \n",
       "3                                    ['\"Shell\" by Bana']   \n",
       "4      ['\"Emotion\" by Sunbrain', '\"Wish Men\" by Sunbr...   \n",
       "...                                                  ...   \n",
       "24024                                                 []   \n",
       "24025                                                 []   \n",
       "24026                                                 []   \n",
       "24027                                                 []   \n",
       "24028                                                 []   \n",
       "\n",
       "                                           ending_themes  \\\n",
       "0      ['\"The Real Folk Blues\" by The Seatbelts feat....   \n",
       "1      ['\"Gotta Knock a Little Harder\" by The Seatbel...   \n",
       "2      ['\"Kaze wa Mirai ni Fuku (The Wind Blows to th...   \n",
       "3      ['\"Half Pain\" by Bana (eps 01-14,16-25)', '\"Sh...   \n",
       "4      ['\"pureness\" by Nana Kitade (eps 1-13)', '\"Dre...   \n",
       "...                                                  ...   \n",
       "24024                                                 []   \n",
       "24025                                                 []   \n",
       "24026                                                 []   \n",
       "24027                                                 []   \n",
       "24028                                                 []   \n",
       "\n",
       "                                              characters  \\\n",
       "0      [<mal._anime.AnimeCharacterResult object at 0x...   \n",
       "1      [<mal._anime.AnimeCharacterResult object at 0x...   \n",
       "2      [<mal._anime.AnimeCharacterResult object at 0x...   \n",
       "3      [<mal._anime.AnimeCharacterResult object at 0x...   \n",
       "4      [<mal._anime.AnimeCharacterResult object at 0x...   \n",
       "...                                                  ...   \n",
       "24024                                                 []   \n",
       "24025                                                 []   \n",
       "24026                                                 []   \n",
       "24027                                                 []   \n",
       "24028                                                 []   \n",
       "\n",
       "                                                   staff  \\\n",
       "0      [<mal._anime.AnimeStaffResult object at 0x0000...   \n",
       "1      [<mal._anime.AnimeStaffResult object at 0x0000...   \n",
       "2      [<mal._anime.AnimeStaffResult object at 0x0000...   \n",
       "3      [<mal._anime.AnimeStaffResult object at 0x0000...   \n",
       "4      [<mal._anime.AnimeStaffResult object at 0x0000...   \n",
       "...                                                  ...   \n",
       "24024                                                 []   \n",
       "24025  [<mal._anime.AnimeStaffResult object at 0x0000...   \n",
       "24026                                                 []   \n",
       "24027                                                 []   \n",
       "24028                                                 []   \n",
       "\n",
       "                                                synopsis  \\\n",
       "0      Crime is timeless. By the year 2071, humanity ...   \n",
       "1      Another day, another bounty—such is the life o...   \n",
       "2      Vash the Stampede is the man with a $$60,000,0...   \n",
       "3      Witches are individuals with special powers li...   \n",
       "4      It is the dark century and the people are suff...   \n",
       "...                                                  ...   \n",
       "24024  Animated music videos promoting the \"Aikatsu! ...   \n",
       "24025  No synopsis information has been added to this...   \n",
       "24026       Music video for the Urusei Yatsura ED theme.   \n",
       "24027                                Yuki visits Hawaii.   \n",
       "24028  1. Paradise Ocean: A day on the beach 2. Proje...   \n",
       "\n",
       "                                              background     ID  \n",
       "0      When Cowboy Bebop first aired in spring of 199...      1  \n",
       "1                                                    NaN      5  \n",
       "2      The Japanese release by Victor Entertainment h...      6  \n",
       "3                                                    NaN      7  \n",
       "4                                                    NaN      8  \n",
       "...                                                  ...    ...  \n",
       "24024                                                NaN  53505  \n",
       "24025                                                NaN  53506  \n",
       "24026                                                NaN  53507  \n",
       "24027                                                NaN  53508  \n",
       "24028                                                NaN  53509  \n",
       "\n",
       "[24029 rows x 34 columns]"
      ]
     },
     "execution_count": 2,
     "metadata": {},
     "output_type": "execute_result"
    }
   ],
   "source": [
    "import pandas as pd\n",
    "animes = pd.read_csv(filename)\n",
    "animes"
   ]
  },
  {
   "cell_type": "markdown",
   "id": "f2128287-fd97-4090-8e1c-a227a3432652",
   "metadata": {
    "tags": []
   },
   "source": [
    "## Create our AnimePredictor object\n",
    "This object will have methods for treating data and predicting scores."
   ]
  },
  {
   "cell_type": "code",
   "execution_count": 3,
   "id": "966c573b-0ec6-46c8-b54f-256ed383be5b",
   "metadata": {},
   "outputs": [],
   "source": [
    "from ScorePredictor import AnimePredictor\n",
    "animeData = AnimePredictor(animes)"
   ]
  },
  {
   "cell_type": "markdown",
   "id": "1ee29d22-1276-4f83-98b1-4b5f2ced896b",
   "metadata": {},
   "source": [
    "#### Treating our data\n",
    "We remove enteries where there is poor or missing data, as well as change some categories from string values to float values. This allows us to run a prediction model on our dataset."
   ]
  },
  {
   "cell_type": "code",
   "execution_count": 4,
   "id": "1f8ce95e-cc0e-4b21-8db0-0009f7dcaf30",
   "metadata": {},
   "outputs": [
    {
     "name": "stdout",
     "output_type": "stream",
     "text": [
      "       score  scored_by  popularity  members  favorites  episodes  premiered\n",
      "0       8.75   869456.0          43  1683105      74818      26.0    1998.25\n",
      "2       8.22   338382.0         245   683856      13886      26.0    1998.25\n",
      "3       7.25    42079.0        1720   108282        591      26.0    2002.50\n",
      "4       6.94     6305.0        4957    14589         14      52.0    2004.75\n",
      "5       7.92    84587.0        1194   172564       1943     145.0    2005.25\n",
      "...      ...        ...         ...      ...        ...       ...        ...\n",
      "22621   6.42    22817.0        2077    80717        559      12.0    2022.50\n",
      "22652   6.90    55702.0        1256   161714       1023      13.0    2022.50\n",
      "22878   5.05      241.0        6447     7637         67      13.0    2022.50\n",
      "22927   6.58    23424.0        2002    86783        438      11.0    2022.50\n",
      "22992   5.84     6003.0        4213    21584         46      12.0    2022.50\n",
      "\n",
      "[4215 rows x 7 columns]\n"
     ]
    }
   ],
   "source": [
    "animeData.treatData()\n",
    "print(animeData.X)"
   ]
  },
  {
   "cell_type": "markdown",
   "id": "55dd76c3-96aa-4daa-a5d0-22213988dfb0",
   "metadata": {},
   "source": [
    "#### Create Model Variables\n",
    "These variables are what we will use as our features and labels."
   ]
  },
  {
   "cell_type": "code",
   "execution_count": 5,
   "id": "41569610-a98f-47f7-8b1b-80054dac3246",
   "metadata": {},
   "outputs": [
    {
     "name": "stdout",
     "output_type": "stream",
     "text": [
      "       scored_by  popularity  members  favorites  episodes  premiered\n",
      "0       869456.0          43  1683105      74818      26.0    1998.25\n",
      "2       338382.0         245   683856      13886      26.0    1998.25\n",
      "3        42079.0        1720   108282        591      26.0    2002.50\n",
      "4         6305.0        4957    14589         14      52.0    2004.75\n",
      "5        84587.0        1194   172564       1943     145.0    2005.25\n",
      "...          ...         ...      ...        ...       ...        ...\n",
      "22621    22817.0        2077    80717        559      12.0    2022.50\n",
      "22652    55702.0        1256   161714       1023      13.0    2022.50\n",
      "22878      241.0        6447     7637         67      13.0    2022.50\n",
      "22927    23424.0        2002    86783        438      11.0    2022.50\n",
      "22992     6003.0        4213    21584         46      12.0    2022.50\n",
      "\n",
      "[4215 rows x 6 columns] 0        8.75\n",
      "2        8.22\n",
      "3        7.25\n",
      "4        6.94\n",
      "5        7.92\n",
      "         ... \n",
      "22621    6.42\n",
      "22652    6.90\n",
      "22878    5.05\n",
      "22927    6.58\n",
      "22992    5.84\n",
      "Name: score, Length: 4215, dtype: float64\n"
     ]
    }
   ],
   "source": [
    "animeData.createModelVariables()\n",
    "print(animeData.X, animeData.y)"
   ]
  },
  {
   "cell_type": "markdown",
   "id": "c84e7dcc-8f5b-492c-8ed8-f204e8fa8f83",
   "metadata": {},
   "source": [
    "#### Distribution of Variables\n",
    "To get an idea of what our prediction model should look like, it's a good idea to see the distribution of our feature and label variables."
   ]
  },
  {
   "cell_type": "code",
   "execution_count": 6,
   "id": "d12957d8-e0bf-426b-b447-5288bdc4bcf8",
   "metadata": {},
   "outputs": [
    {
     "data": {
      "image/png": "[encoded data removed]",
      "text/plain": [
       "<Figure size 1296x216 with 6 Axes>"
      ]
     },
     "metadata": {
      "needs_background": "light"
     },
     "output_type": "display_data"
    }
   ],
   "source": [
    "from matplotlib import pyplot as plt\n",
    "fig, ax = plt.subplots(1, len(animeData.X.columns), figsize = (18, 3))\n",
    "counter = 0\n",
    "for i in animeData.X.columns:\n",
    "    ax[counter].hist(animeData.X[i], bins = 100)\n",
    "    ax[counter].set(ylabel = \"Frequency\")\n",
    "    ax[counter].set(title = i)\n",
    "    counter += 1\n",
    "from matplotlib import ticker\n",
    "formatter = ticker.ScalarFormatter(useMathText=True)\n",
    "formatter.set_scientific(True) \n",
    "formatter.set_powerlimits((-1,1)) \n",
    "ax[3].xaxis.set_major_formatter(formatter) \n",
    "fig.tight_layout()\n",
    "plt.show()"
   ]
  },
  {
   "cell_type": "code",
   "execution_count": 7,
   "id": "01ca831b-f566-439d-832f-2ceb8930068d",
   "metadata": {},
   "outputs": [
    {
     "data": {
      "image/png": "[encoded data removed]",
      "text/plain": [
       "<Figure size 432x288 with 1 Axes>"
      ]
     },
     "metadata": {
      "needs_background": "light"
     },
     "output_type": "display_data"
    },
    {
     "name": "stdout",
     "output_type": "stream",
     "text": [
      "The mean value of our dataset's scores are 6.85\n"
     ]
    }
   ],
   "source": [
    "fig, ax = plt.subplots(1)\n",
    "ax.hist(animeData.y, bins = 100)\n",
    "ax.set(xlabel = \"score\", ylabel = \"Frequency\")\n",
    "plt.show()\n",
    "import numpy as np\n",
    "print(\"The mean value of our dataset's scores are {0}\".format(np.round(np.mean(animeData.y),2)))"
   ]
  },
  {
   "cell_type": "markdown",
   "id": "e22a4307-8d59-4ec9-a808-663e0868e18d",
   "metadata": {},
   "source": [
    "## Using our Prediction Model"
   ]
  },
  {
   "cell_type": "markdown",
   "id": "abf650bd-ce87-4b69-9157-59dda632ce02",
   "metadata": {},
   "source": [
    "#### Display our prediction results for \"Blue Lock\""
   ]
  },
  {
   "cell_type": "code",
   "execution_count": 8,
   "id": "3ae38067-9770-405c-8651-0bd4b6c35618",
   "metadata": {},
   "outputs": [
    {
     "name": "stdout",
     "output_type": "stream",
     "text": [
      "The predicted score for \u001b[1;3mBlue Lock\u001b[0m via Decision Tree Regressor is \u001b[1;3m7.75\u001b[0m\n",
      "The predicted score for \u001b[1;3mBlue Lock\u001b[0m via Linear Regression is \u001b[1;3m7.41\u001b[0m\n"
     ]
    }
   ],
   "source": [
    "BlueLockScoreTree = animeData.printScoreTree(49596)\n",
    "BlueLockScoreLinear = animeData.printScoreLinearRegression(49596)"
   ]
  },
  {
   "cell_type": "markdown",
   "id": "d3cb5d4a-8eb0-426b-bd42-c39322e0fcc6",
   "metadata": {},
   "source": [
    "#### Test our Prediction Model for Many Animes\n",
    "the function printScoreTree can take in a list of IDs as well as just a single ID"
   ]
  },
  {
   "cell_type": "code",
   "execution_count": 9,
   "id": "a682e419-2747-4d9d-bd6a-b83a1290377c",
   "metadata": {},
   "outputs": [
    {
     "name": "stdout",
     "output_type": "stream",
     "text": [
      "The predicted score for \u001b[1;3mUzaki-chan Wants to Hang Out! Season 2\u001b[0m via Decision Tree Regressor is \u001b[1;3m6.66\u001b[0m\n",
      "The predicted score for \u001b[1;3mI'm the Villainess, So I'm Taming the Final Boss\u001b[0m via Decision Tree Regressor is \u001b[1;3m6.58\u001b[0m\n",
      "The predicted score for \u001b[1;3mImmoral Guild\u001b[0m via Decision Tree Regressor is \u001b[1;3m6.49\u001b[0m\n",
      "The predicted score for \u001b[1;3mBeast Tamer\u001b[0m via Decision Tree Regressor is \u001b[1;3m6.45\u001b[0m\n",
      "The predicted score for \u001b[1;3mUzaki-chan Wants to Hang Out! Season 2\u001b[0m via Linear Regression is \u001b[1;3m7.15\u001b[0m\n",
      "The predicted score for \u001b[1;3mI'm the Villainess, So I'm Taming the Final Boss\u001b[0m via Linear Regression is \u001b[1;3m6.9\u001b[0m\n",
      "The predicted score for \u001b[1;3mImmoral Guild\u001b[0m via Linear Regression is \u001b[1;3m6.72\u001b[0m\n",
      "The predicted score for \u001b[1;3mBeast Tamer\u001b[0m via Linear Regression is \u001b[1;3m6.89\u001b[0m\n"
     ]
    }
   ],
   "source": [
    "listOfAnimes = [42962, 49979, 51212, 52046]\n",
    "listOfAnimesScoreTree = animeData.printScoreTree(listOfAnimes)\n",
    "listOfAnimesScoreLinear = animeData.printScoreLinearRegression(listOfAnimes)"
   ]
  },
  {
   "cell_type": "markdown",
   "id": "ad661b09-1fa7-4742-97d3-44fa3d5e7227",
   "metadata": {},
   "source": [
    "## Analysing our Results"
   ]
  },
  {
   "cell_type": "markdown",
   "id": "2d2c9d9c-b3da-439e-ae57-2c4107f361c8",
   "metadata": {},
   "source": [
    "#### Error Scores\n",
    "Let's see the error scores of each type of prediction model"
   ]
  },
  {
   "cell_type": "code",
   "execution_count": 10,
   "id": "424539d0-6494-4fa5-b9d8-1d2563c848be",
   "metadata": {},
   "outputs": [
    {
     "name": "stdout",
     "output_type": "stream",
     "text": [
      "0.8249862183341757 0.4531134065731621\n"
     ]
    }
   ],
   "source": [
    "print(animeData.T_score, animeData.lr_score)"
   ]
  },
  {
   "cell_type": "markdown",
   "id": "5a8eb463-8e34-4999-9f6f-50e41ca83c4c",
   "metadata": {},
   "source": [
    "It appears that the Decision Tree Regressor provided a much higher score, meaning it should be better. Let's see if that is true in a sample of a few animes."
   ]
  },
  {
   "cell_type": "code",
   "execution_count": 11,
   "id": "55899d14-9a89-40e0-b32f-722290e4f7c2",
   "metadata": {},
   "outputs": [
    {
     "data": {
      "image/png": "[encoded data removed]",
      "text/plain": [
       "<Figure size 1296x576 with 1 Axes>"
      ]
     },
     "metadata": {
      "needs_background": "light"
     },
     "output_type": "display_data"
    }
   ],
   "source": [
    "#set width of bar\n",
    "barWidth = 0.25\n",
    "fig = plt.subplots(figsize =(18, 8))\n",
    " \n",
    "# getting the true score\n",
    "listOfAnimesScore = []\n",
    "listOfAnimesName = []\n",
    "for i in listOfAnimes:\n",
    "    listOfAnimesScore.append(animeData.animes.loc[animeData.animes[animeData.animes[\"ID\"]==i].index].iloc[0][10])\n",
    "    listOfAnimesName.append(animes.loc[animes[animes[\"ID\"]==i].index].iloc[0][1])\n",
    "\n",
    "# Set position of bar on X axis\n",
    "bar1 = np.arange(len(listOfAnimes))\n",
    "bar2 = [x + barWidth for x in bar1]\n",
    "bar3 = [x + barWidth for x in bar2]\n",
    " \n",
    "# Make the plot\n",
    "plt.bar(bar1, listOfAnimesScoreTree, color ='r', width = barWidth,\n",
    "        edgecolor ='grey', label ='Tree Regressor')\n",
    "plt.bar(bar2, listOfAnimesScoreLinear, color ='g', width = barWidth,\n",
    "        edgecolor ='grey', label ='Linear Regression')\n",
    "plt.bar(bar3, listOfAnimesScore, color ='b', width = barWidth,\n",
    "        edgecolor ='grey', label ='True Value')\n",
    " \n",
    "#Adding Xticks\n",
    "plt.xticks([r + barWidth for r in range(len(listOfAnimes))], listOfAnimesName)\n",
    " \n",
    "plt.legend()\n",
    "plt.show()"
   ]
  },
  {
   "cell_type": "code",
   "execution_count": 12,
   "id": "bbe8cd49-bb50-41f3-a99d-18f95901f420",
   "metadata": {},
   "outputs": [
    {
     "name": "stdout",
     "output_type": "stream",
     "text": [
      "For Uzaki-chan Wants to Hang Out! Season 2, the \u001b[1;3m\u001b[1;31mLinear Regression\u001b[0m\u001b[0m provided a better result.\n",
      "For I'm the Villainess, So I'm Taming the Final Boss, the \u001b[1;3m\u001b[1;31mLinear Regression\u001b[0m\u001b[0m provided a better result.\n",
      "For Immoral Guild, the \u001b[1;3m\u001b[1;31mDecision Tree Regressor\u001b[0m\u001b[0m provided a better result.\n",
      "For Beast Tamer, the \u001b[1;3m\u001b[1;31mLinear Regression\u001b[0m\u001b[0m provided a better result.\n"
     ]
    },
    {
     "name": "stderr",
     "output_type": "stream",
     "text": [
      "C:\\Users\\Cake\\AppData\\Local\\Temp\\ipykernel_24248\\2094851737.py:7: DeprecationWarning: In future, it will be an error for 'np.bool_' scalars to be interpreted as an index\n",
      "  models[(abs(listOfAnimesScore[i] - listOfAnimesScoreTree[i])) - (abs(listOfAnimesScore[i] - listOfAnimesScoreLinear[i])) >= 0]))\n"
     ]
    }
   ],
   "source": [
    "models = [\"Decision Tree Regressor\", \"Linear Regression\"]\n",
    "for i in range(len(listOfAnimes)):\n",
    "    #uncomment to see the exact error of the anime's graphed above\n",
    "    #print(\"Error for {0} via Decision Tree Regressor is {1}\".format(listOfAnimesName[i]), abs(listOfAnimesScore[i] - listOfAnimesScoreTree[i]))\n",
    "    #print(\"Error for {0} via Linear Regression is {1}\".format(listOfAnimesName[i]), abs(listOfAnimesScore[i] - listOfAnimesScoreLinear[i]))\n",
    "    print(\"For {0}, the \\033[1;3m\\033[1;31m{1}\\033[0m\\033[0m provided a better result.\".format(listOfAnimesName[i],\n",
    "        models[(abs(listOfAnimesScore[i] - listOfAnimesScoreTree[i])) - (abs(listOfAnimesScore[i] - listOfAnimesScoreLinear[i])) >= 0]))"
   ]
  },
  {
   "cell_type": "markdown",
   "id": "ff90c536-3ce2-4d7e-a82a-8f07b3103a2c",
   "metadata": {},
   "source": [
    "It appears there isn't a significant difference between each of the models. This is surprising considering our error scores. Perhaps updating our models so that there are more features, changing the weight of each feature may help produce accurate results. Nevertheless, it appears that our model isn't that far off from our true solution."
   ]
  },
  {
   "cell_type": "markdown",
   "id": "30378386-c312-485d-b7e6-b9a221e12381",
   "metadata": {
    "tags": []
   },
   "source": [
    "## Exception Handling in ScorePredictor\n",
    "#### Example #1\n",
    "\n",
    "When using the predictive models, the user must input an ID not representative of an anime used to fit the model.\n",
    "```python\n",
    "    def predictScoreTree(self, animeID):\n",
    "        ...\n",
    "        if animeID in self.animes[\"ID\"]:\n",
    "            raise ValueError(\"animeID is not the ID to any anime in self.animes\")\n",
    "    def predictScoreTree(self, animeID):\n",
    "        ...\n",
    "        if animeID in self.animes[\"ID\"]:\n",
    "            raise ValueError(\"animeID is not the ID to any anime in self.animes\")\n",
    "```\n",
    "#### Example #2\n",
    "\n",
    "\n",
    "When using the predictive models, the user must input an int representing an ID in the dataset.\n",
    "```python\n",
    "    def printScoreTree(self, animeID):\n",
    "        ...\n",
    "        if isinstance(i, int) == False:\n",
    "            raise ValueError(\"animeID must be an int or list of ints\")\n",
    "    def printScoreLinearRegression(self, animeID):\n",
    "        ...\n",
    "        if isinstance(i, int) == False:\n",
    "            raise ValueError(\"animeID must be an int or list of ints\")\n",
    "```"
   ]
  }
 ],
 "metadata": {
  "kernelspec": {
   "display_name": "Python 3 (ipykernel)",
   "language": "python",
   "name": "python3"
  },
  "language_info": {
   "codemirror_mode": {
    "name": "ipython",
    "version": 3
   },
   "file_extension": ".py",
   "mimetype": "text/x-python",
   "name": "python",
   "nbconvert_exporter": "python",
   "pygments_lexer": "ipython3",
   "version": "3.9.12"
  }
 },
 "nbformat": 4,
 "nbformat_minor": 5
}
