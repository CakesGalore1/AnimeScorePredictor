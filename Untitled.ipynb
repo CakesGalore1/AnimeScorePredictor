{
 "cells": [
  {
   "cell_type": "code",
   "execution_count": 5,
   "id": "5e1f77cd-06b5-4e07-b42f-33b6ee32d6a0",
   "metadata": {},
   "outputs": [
    {
     "ename": "FileNotFoundError",
     "evalue": "[WinError 3] The system cannot find the path specified: '/Downloads/MyAnimeListCSVgenerator-main/MyAnimeListCSVgenerator-main/'",
     "output_type": "error",
     "traceback": [
      "\u001b[1;31m---------------------------------------------------------------------------\u001b[0m",
      "\u001b[1;31mFileNotFoundError\u001b[0m                         Traceback (most recent call last)",
      "Input \u001b[1;32mIn [5]\u001b[0m, in \u001b[0;36m<cell line: 9>\u001b[1;34m()\u001b[0m\n\u001b[0;32m      6\u001b[0m path \u001b[38;5;241m=\u001b[39m \u001b[38;5;124m\"\u001b[39m\u001b[38;5;124m/Downloads/MyAnimeListCSVgenerator-main/MyAnimeListCSVgenerator-main/\u001b[39m\u001b[38;5;124m\"\u001b[39m\n\u001b[0;32m      8\u001b[0m \u001b[38;5;66;03m# 2. creates list with files to merge based on name convention\u001b[39;00m\n\u001b[1;32m----> 9\u001b[0m file_list \u001b[38;5;241m=\u001b[39m [path \u001b[38;5;241m+\u001b[39m f \u001b[38;5;28;01mfor\u001b[39;00m f \u001b[38;5;129;01min\u001b[39;00m \u001b[43mos\u001b[49m\u001b[38;5;241;43m.\u001b[39;49m\u001b[43mlistdir\u001b[49m\u001b[43m(\u001b[49m\u001b[43mpath\u001b[49m\u001b[43m)\u001b[49m \u001b[38;5;28;01mif\u001b[39;00m f\u001b[38;5;241m.\u001b[39mstartswith(\u001b[38;5;124m'\u001b[39m\u001b[38;5;124mAnimeList\u001b[39m\u001b[38;5;124m'\u001b[39m)]\n\u001b[0;32m     11\u001b[0m \u001b[38;5;66;03m# 3. creates empty list to include the content of each file converted to pandas DF\u001b[39;00m\n\u001b[0;32m     12\u001b[0m csv_list \u001b[38;5;241m=\u001b[39m []\n",
      "\u001b[1;31mFileNotFoundError\u001b[0m: [WinError 3] The system cannot find the path specified: '/Downloads/MyAnimeListCSVgenerator-main/MyAnimeListCSVgenerator-main/'"
     ]
    }
   ],
   "source": [
    "## Merge Multiple 1M Rows CSV files\n",
    "import os\n",
    "import pandas as pd\n",
    "\n",
    "# 1. defines path to csv files\n",
    "path = \"...\"\n",
    "\n",
    "# 2. creates list with files to merge based on name convention\n",
    "file_list = [path + f for f in os.listdir(path) if f.startswith('AnimeList')]\n",
    "\n",
    "# 3. creates empty list to include the content of each file converted to pandas DF\n",
    "csv_list = []\n",
    " \n",
    "# 4. reads each (sorted) file in file_list, converts it to pandas DF and appends it to the csv_list\n",
    "for file in sorted(file_list):\n",
    "    csv_list.append(pd.read_csv(file).assign(File_Name = os.path.basename(file)))\n",
    "\n",
    "# 5. merges single pandas DFs into a single DF, index is refreshed \n",
    "csv_merged = pd.concat(csv_list, ignore_index=True)\n",
    "\n",
    "# 6. Single DF is saved to the path in CSV format, without index column\n",
    "csv_merged.to_csv(path + 'CombinedAnime.csv', index=False)"
   ]
  },
  {
   "cell_type": "code",
   "execution_count": null,
   "id": "37868e5f-2049-4449-946c-454ee475992c",
   "metadata": {},
   "outputs": [],
   "source": []
  }
 ],
 "metadata": {
  "kernelspec": {
   "display_name": "Python 3 (ipykernel)",
   "language": "python",
   "name": "python3"
  },
  "language_info": {
   "codemirror_mode": {
    "name": "ipython",
    "version": 3
   },
   "file_extension": ".py",
   "mimetype": "text/x-python",
   "name": "python",
   "nbconvert_exporter": "python",
   "pygments_lexer": "ipython3",
   "version": "3.9.12"
  }
 },
 "nbformat": 4,
 "nbformat_minor": 5
}
